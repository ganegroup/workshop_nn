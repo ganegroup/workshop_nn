{
 "cells": [
  {
   "attachments": {},
   "cell_type": "markdown",
   "metadata": {},
   "source": [
    "# Auto-Encoder: detect credit card fraud through anomalies\n",
    "\n",
    "[![](https://colab.research.google.com/assets/colab-badge.svg)](http://colab.research.google.com/github/ganegroup/workshop_nn/blob/main/14_Sequence_Anomaly_Detection-Credit-card.ipynb)\n",
    "\n",
    "We now make a more sophisticated algorithm to define the 'normal' sample in which the probability of the chars depend on the value of the other chars."
   ]
  },
  {
   "cell_type": "code",
   "execution_count": 51,
   "metadata": {},
   "outputs": [],
   "source": [
    "import random\n",
    "import pandas as pd\n",
    "import numpy as np\n",
    "import matplotlib.pyplot as plt"
   ]
  },
  {
   "cell_type": "code",
   "execution_count": 52,
   "metadata": {},
   "outputs": [],
   "source": [
    "trans = pd.read_csv('/home/sequi/tmp/creditcard.csv', sep=',')"
   ]
  },
  {
   "cell_type": "code",
   "execution_count": 54,
   "metadata": {},
   "outputs": [
    {
     "data": {
      "text/html": [
       "<div>\n",
       "<style scoped>\n",
       "    .dataframe tbody tr th:only-of-type {\n",
       "        vertical-align: middle;\n",
       "    }\n",
       "\n",
       "    .dataframe tbody tr th {\n",
       "        vertical-align: top;\n",
       "    }\n",
       "\n",
       "    .dataframe thead th {\n",
       "        text-align: right;\n",
       "    }\n",
       "</style>\n",
       "<table border=\"1\" class=\"dataframe\">\n",
       "  <thead>\n",
       "    <tr style=\"text-align: right;\">\n",
       "      <th></th>\n",
       "      <th>Time</th>\n",
       "      <th>V1</th>\n",
       "      <th>V2</th>\n",
       "      <th>V3</th>\n",
       "      <th>V4</th>\n",
       "      <th>V5</th>\n",
       "      <th>V6</th>\n",
       "      <th>V7</th>\n",
       "      <th>V8</th>\n",
       "      <th>V9</th>\n",
       "      <th>...</th>\n",
       "      <th>V21</th>\n",
       "      <th>V22</th>\n",
       "      <th>V23</th>\n",
       "      <th>V24</th>\n",
       "      <th>V25</th>\n",
       "      <th>V26</th>\n",
       "      <th>V27</th>\n",
       "      <th>V28</th>\n",
       "      <th>Amount</th>\n",
       "      <th>Class</th>\n",
       "    </tr>\n",
       "  </thead>\n",
       "  <tbody>\n",
       "    <tr>\n",
       "      <th>0</th>\n",
       "      <td>0.0</td>\n",
       "      <td>-1.359807</td>\n",
       "      <td>-0.072781</td>\n",
       "      <td>2.536347</td>\n",
       "      <td>1.378155</td>\n",
       "      <td>-0.338321</td>\n",
       "      <td>0.462388</td>\n",
       "      <td>0.239599</td>\n",
       "      <td>0.098698</td>\n",
       "      <td>0.363787</td>\n",
       "      <td>...</td>\n",
       "      <td>-0.018307</td>\n",
       "      <td>0.277838</td>\n",
       "      <td>-0.110474</td>\n",
       "      <td>0.066928</td>\n",
       "      <td>0.128539</td>\n",
       "      <td>-0.189115</td>\n",
       "      <td>0.133558</td>\n",
       "      <td>-0.021053</td>\n",
       "      <td>149.62</td>\n",
       "      <td>0</td>\n",
       "    </tr>\n",
       "    <tr>\n",
       "      <th>1</th>\n",
       "      <td>0.0</td>\n",
       "      <td>1.191857</td>\n",
       "      <td>0.266151</td>\n",
       "      <td>0.166480</td>\n",
       "      <td>0.448154</td>\n",
       "      <td>0.060018</td>\n",
       "      <td>-0.082361</td>\n",
       "      <td>-0.078803</td>\n",
       "      <td>0.085102</td>\n",
       "      <td>-0.255425</td>\n",
       "      <td>...</td>\n",
       "      <td>-0.225775</td>\n",
       "      <td>-0.638672</td>\n",
       "      <td>0.101288</td>\n",
       "      <td>-0.339846</td>\n",
       "      <td>0.167170</td>\n",
       "      <td>0.125895</td>\n",
       "      <td>-0.008983</td>\n",
       "      <td>0.014724</td>\n",
       "      <td>2.69</td>\n",
       "      <td>0</td>\n",
       "    </tr>\n",
       "    <tr>\n",
       "      <th>2</th>\n",
       "      <td>1.0</td>\n",
       "      <td>-1.358354</td>\n",
       "      <td>-1.340163</td>\n",
       "      <td>1.773209</td>\n",
       "      <td>0.379780</td>\n",
       "      <td>-0.503198</td>\n",
       "      <td>1.800499</td>\n",
       "      <td>0.791461</td>\n",
       "      <td>0.247676</td>\n",
       "      <td>-1.514654</td>\n",
       "      <td>...</td>\n",
       "      <td>0.247998</td>\n",
       "      <td>0.771679</td>\n",
       "      <td>0.909412</td>\n",
       "      <td>-0.689281</td>\n",
       "      <td>-0.327642</td>\n",
       "      <td>-0.139097</td>\n",
       "      <td>-0.055353</td>\n",
       "      <td>-0.059752</td>\n",
       "      <td>378.66</td>\n",
       "      <td>0</td>\n",
       "    </tr>\n",
       "  </tbody>\n",
       "</table>\n",
       "<p>3 rows × 31 columns</p>\n",
       "</div>"
      ],
      "text/plain": [
       "   Time        V1        V2        V3        V4        V5        V6        V7  \\\n",
       "0   0.0 -1.359807 -0.072781  2.536347  1.378155 -0.338321  0.462388  0.239599   \n",
       "1   0.0  1.191857  0.266151  0.166480  0.448154  0.060018 -0.082361 -0.078803   \n",
       "2   1.0 -1.358354 -1.340163  1.773209  0.379780 -0.503198  1.800499  0.791461   \n",
       "\n",
       "         V8        V9  ...       V21       V22       V23       V24       V25  \\\n",
       "0  0.098698  0.363787  ... -0.018307  0.277838 -0.110474  0.066928  0.128539   \n",
       "1  0.085102 -0.255425  ... -0.225775 -0.638672  0.101288 -0.339846  0.167170   \n",
       "2  0.247676 -1.514654  ...  0.247998  0.771679  0.909412 -0.689281 -0.327642   \n",
       "\n",
       "        V26       V27       V28  Amount  Class  \n",
       "0 -0.189115  0.133558 -0.021053  149.62      0  \n",
       "1  0.125895 -0.008983  0.014724    2.69      0  \n",
       "2 -0.139097 -0.055353 -0.059752  378.66      0  \n",
       "\n",
       "[3 rows x 31 columns]"
      ]
     },
     "metadata": {},
     "output_type": "display_data"
    },
    {
     "name": "stdout",
     "output_type": "stream",
     "text": [
      "(284807, 31)\n"
     ]
    },
    {
     "data": {
      "text/plain": [
       "492"
      ]
     },
     "execution_count": 54,
     "metadata": {},
     "output_type": "execute_result"
    }
   ],
   "source": [
    "display(trans[:3])\n",
    "print(trans.shape)\n",
    "trans['Class'].sum()"
   ]
  },
  {
   "cell_type": "code",
   "execution_count": 55,
   "metadata": {},
   "outputs": [
    {
     "data": {
      "text/plain": [
       "0.9982725143693799"
      ]
     },
     "execution_count": 55,
     "metadata": {},
     "output_type": "execute_result"
    }
   ],
   "source": [
    "1-492/284807"
   ]
  },
  {
   "cell_type": "code",
   "execution_count": 56,
   "metadata": {},
   "outputs": [
    {
     "name": "stdout",
     "output_type": "stream",
     "text": [
      "492\n"
     ]
    },
    {
     "data": {
      "text/html": [
       "<div>\n",
       "<style scoped>\n",
       "    .dataframe tbody tr th:only-of-type {\n",
       "        vertical-align: middle;\n",
       "    }\n",
       "\n",
       "    .dataframe tbody tr th {\n",
       "        vertical-align: top;\n",
       "    }\n",
       "\n",
       "    .dataframe thead th {\n",
       "        text-align: right;\n",
       "    }\n",
       "</style>\n",
       "<table border=\"1\" class=\"dataframe\">\n",
       "  <thead>\n",
       "    <tr style=\"text-align: right;\">\n",
       "      <th></th>\n",
       "      <th>Time</th>\n",
       "      <th>V1</th>\n",
       "      <th>V2</th>\n",
       "      <th>V3</th>\n",
       "      <th>V4</th>\n",
       "      <th>V5</th>\n",
       "      <th>V6</th>\n",
       "      <th>V7</th>\n",
       "      <th>V8</th>\n",
       "      <th>V9</th>\n",
       "      <th>...</th>\n",
       "      <th>V21</th>\n",
       "      <th>V22</th>\n",
       "      <th>V23</th>\n",
       "      <th>V24</th>\n",
       "      <th>V25</th>\n",
       "      <th>V26</th>\n",
       "      <th>V27</th>\n",
       "      <th>V28</th>\n",
       "      <th>Amount</th>\n",
       "      <th>Class</th>\n",
       "    </tr>\n",
       "  </thead>\n",
       "  <tbody>\n",
       "    <tr>\n",
       "      <th>541</th>\n",
       "      <td>406.0</td>\n",
       "      <td>-2.312227</td>\n",
       "      <td>1.951992</td>\n",
       "      <td>-1.609851</td>\n",
       "      <td>3.997906</td>\n",
       "      <td>-0.522188</td>\n",
       "      <td>-1.426545</td>\n",
       "      <td>-2.537387</td>\n",
       "      <td>1.391657</td>\n",
       "      <td>-2.770089</td>\n",
       "      <td>...</td>\n",
       "      <td>0.517232</td>\n",
       "      <td>-0.035049</td>\n",
       "      <td>-0.465211</td>\n",
       "      <td>0.320198</td>\n",
       "      <td>0.044519</td>\n",
       "      <td>0.177840</td>\n",
       "      <td>0.261145</td>\n",
       "      <td>-0.143276</td>\n",
       "      <td>0.00</td>\n",
       "      <td>1</td>\n",
       "    </tr>\n",
       "    <tr>\n",
       "      <th>623</th>\n",
       "      <td>472.0</td>\n",
       "      <td>-3.043541</td>\n",
       "      <td>-3.157307</td>\n",
       "      <td>1.088463</td>\n",
       "      <td>2.288644</td>\n",
       "      <td>1.359805</td>\n",
       "      <td>-1.064823</td>\n",
       "      <td>0.325574</td>\n",
       "      <td>-0.067794</td>\n",
       "      <td>-0.270953</td>\n",
       "      <td>...</td>\n",
       "      <td>0.661696</td>\n",
       "      <td>0.435477</td>\n",
       "      <td>1.375966</td>\n",
       "      <td>-0.293803</td>\n",
       "      <td>0.279798</td>\n",
       "      <td>-0.145362</td>\n",
       "      <td>-0.252773</td>\n",
       "      <td>0.035764</td>\n",
       "      <td>529.00</td>\n",
       "      <td>1</td>\n",
       "    </tr>\n",
       "    <tr>\n",
       "      <th>4920</th>\n",
       "      <td>4462.0</td>\n",
       "      <td>-2.303350</td>\n",
       "      <td>1.759247</td>\n",
       "      <td>-0.359745</td>\n",
       "      <td>2.330243</td>\n",
       "      <td>-0.821628</td>\n",
       "      <td>-0.075788</td>\n",
       "      <td>0.562320</td>\n",
       "      <td>-0.399147</td>\n",
       "      <td>-0.238253</td>\n",
       "      <td>...</td>\n",
       "      <td>-0.294166</td>\n",
       "      <td>-0.932391</td>\n",
       "      <td>0.172726</td>\n",
       "      <td>-0.087330</td>\n",
       "      <td>-0.156114</td>\n",
       "      <td>-0.542628</td>\n",
       "      <td>0.039566</td>\n",
       "      <td>-0.153029</td>\n",
       "      <td>239.93</td>\n",
       "      <td>1</td>\n",
       "    </tr>\n",
       "    <tr>\n",
       "      <th>6108</th>\n",
       "      <td>6986.0</td>\n",
       "      <td>-4.397974</td>\n",
       "      <td>1.358367</td>\n",
       "      <td>-2.592844</td>\n",
       "      <td>2.679787</td>\n",
       "      <td>-1.128131</td>\n",
       "      <td>-1.706536</td>\n",
       "      <td>-3.496197</td>\n",
       "      <td>-0.248778</td>\n",
       "      <td>-0.247768</td>\n",
       "      <td>...</td>\n",
       "      <td>0.573574</td>\n",
       "      <td>0.176968</td>\n",
       "      <td>-0.436207</td>\n",
       "      <td>-0.053502</td>\n",
       "      <td>0.252405</td>\n",
       "      <td>-0.657488</td>\n",
       "      <td>-0.827136</td>\n",
       "      <td>0.849573</td>\n",
       "      <td>59.00</td>\n",
       "      <td>1</td>\n",
       "    </tr>\n",
       "    <tr>\n",
       "      <th>6329</th>\n",
       "      <td>7519.0</td>\n",
       "      <td>1.234235</td>\n",
       "      <td>3.019740</td>\n",
       "      <td>-4.304597</td>\n",
       "      <td>4.732795</td>\n",
       "      <td>3.624201</td>\n",
       "      <td>-1.357746</td>\n",
       "      <td>1.713445</td>\n",
       "      <td>-0.496358</td>\n",
       "      <td>-1.282858</td>\n",
       "      <td>...</td>\n",
       "      <td>-0.379068</td>\n",
       "      <td>-0.704181</td>\n",
       "      <td>-0.656805</td>\n",
       "      <td>-1.632653</td>\n",
       "      <td>1.488901</td>\n",
       "      <td>0.566797</td>\n",
       "      <td>-0.010016</td>\n",
       "      <td>0.146793</td>\n",
       "      <td>1.00</td>\n",
       "      <td>1</td>\n",
       "    </tr>\n",
       "  </tbody>\n",
       "</table>\n",
       "<p>5 rows × 31 columns</p>\n",
       "</div>"
      ],
      "text/plain": [
       "        Time        V1        V2        V3        V4        V5        V6  \\\n",
       "541    406.0 -2.312227  1.951992 -1.609851  3.997906 -0.522188 -1.426545   \n",
       "623    472.0 -3.043541 -3.157307  1.088463  2.288644  1.359805 -1.064823   \n",
       "4920  4462.0 -2.303350  1.759247 -0.359745  2.330243 -0.821628 -0.075788   \n",
       "6108  6986.0 -4.397974  1.358367 -2.592844  2.679787 -1.128131 -1.706536   \n",
       "6329  7519.0  1.234235  3.019740 -4.304597  4.732795  3.624201 -1.357746   \n",
       "\n",
       "            V7        V8        V9  ...       V21       V22       V23  \\\n",
       "541  -2.537387  1.391657 -2.770089  ...  0.517232 -0.035049 -0.465211   \n",
       "623   0.325574 -0.067794 -0.270953  ...  0.661696  0.435477  1.375966   \n",
       "4920  0.562320 -0.399147 -0.238253  ... -0.294166 -0.932391  0.172726   \n",
       "6108 -3.496197 -0.248778 -0.247768  ...  0.573574  0.176968 -0.436207   \n",
       "6329  1.713445 -0.496358 -1.282858  ... -0.379068 -0.704181 -0.656805   \n",
       "\n",
       "           V24       V25       V26       V27       V28  Amount  Class  \n",
       "541   0.320198  0.044519  0.177840  0.261145 -0.143276    0.00      1  \n",
       "623  -0.293803  0.279798 -0.145362 -0.252773  0.035764  529.00      1  \n",
       "4920 -0.087330 -0.156114 -0.542628  0.039566 -0.153029  239.93      1  \n",
       "6108 -0.053502  0.252405 -0.657488 -0.827136  0.849573   59.00      1  \n",
       "6329 -1.632653  1.488901  0.566797 -0.010016  0.146793    1.00      1  \n",
       "\n",
       "[5 rows x 31 columns]"
      ]
     },
     "execution_count": 56,
     "metadata": {},
     "output_type": "execute_result"
    }
   ],
   "source": [
    "print(len(trans.loc[trans['Class']==1]))\n",
    "trans.loc[trans['Class']==1][:5]"
   ]
  },
  {
   "cell_type": "code",
   "execution_count": 57,
   "metadata": {},
   "outputs": [],
   "source": [
    "def hour(row):\n",
    "    seconds = row['Time']\n",
    "    return (seconds-int(seconds/86400)*86400)/3600\n",
    "    \n",
    "def weekday(row):\n",
    "    seconds = row['Time']\n",
    "    return int(seconds/86400)%7"
   ]
  },
  {
   "cell_type": "code",
   "execution_count": 58,
   "metadata": {},
   "outputs": [],
   "source": [
    "# Create new columns with the hour and the weekday (relatives to T=0), \n",
    "# Since we expect a pattern in those periods\n",
    "trans['weekday']  = trans.apply (lambda row: weekday(row), axis=1)\n",
    "trans['hour']  = trans.apply (lambda row: hour(row), axis=1)"
   ]
  },
  {
   "cell_type": "code",
   "execution_count": 59,
   "metadata": {},
   "outputs": [
    {
     "data": {
      "image/png": "[encoded data removed]",
      "text/plain": [
       "<Figure size 432x288 with 1 Axes>"
      ]
     },
     "metadata": {
      "needs_background": "light"
     },
     "output_type": "display_data"
    }
   ],
   "source": [
    "plt.hist(trans.loc[trans['Class']==1]['weekday'].tolist())\n",
    "plt.show()"
   ]
  },
  {
   "cell_type": "code",
   "execution_count": 60,
   "metadata": {},
   "outputs": [
    {
     "data": {
      "image/png": "[encoded data removed]",
      "text/plain": [
       "<Figure size 432x288 with 1 Axes>"
      ]
     },
     "metadata": {
      "needs_background": "light"
     },
     "output_type": "display_data"
    }
   ],
   "source": [
    "plt.hist(trans.loc[trans['Class']==1]['hour'].tolist())\n",
    "plt.show()"
   ]
  },
  {
   "cell_type": "code",
   "execution_count": 61,
   "metadata": {},
   "outputs": [
    {
     "data": {
      "image/png": "[encoded data removed]",
      "text/plain": [
       "<Figure size 432x288 with 1 Axes>"
      ]
     },
     "metadata": {
      "needs_background": "light"
     },
     "output_type": "display_data"
    }
   ],
   "source": [
    "plt.hist(trans.loc[trans['Class']==0]['hour'].tolist())\n",
    "plt.show()"
   ]
  },
  {
   "cell_type": "code",
   "execution_count": 62,
   "metadata": {},
   "outputs": [
    {
     "data": {
      "text/html": [
       "<div>\n",
       "<style scoped>\n",
       "    .dataframe tbody tr th:only-of-type {\n",
       "        vertical-align: middle;\n",
       "    }\n",
       "\n",
       "    .dataframe tbody tr th {\n",
       "        vertical-align: top;\n",
       "    }\n",
       "\n",
       "    .dataframe thead th {\n",
       "        text-align: right;\n",
       "    }\n",
       "</style>\n",
       "<table border=\"1\" class=\"dataframe\">\n",
       "  <thead>\n",
       "    <tr style=\"text-align: right;\">\n",
       "      <th></th>\n",
       "      <th>Time</th>\n",
       "      <th>V1</th>\n",
       "      <th>V2</th>\n",
       "      <th>V3</th>\n",
       "      <th>V4</th>\n",
       "      <th>V5</th>\n",
       "      <th>V6</th>\n",
       "      <th>V7</th>\n",
       "      <th>V8</th>\n",
       "      <th>V9</th>\n",
       "      <th>...</th>\n",
       "      <th>V23</th>\n",
       "      <th>V24</th>\n",
       "      <th>V25</th>\n",
       "      <th>V26</th>\n",
       "      <th>V27</th>\n",
       "      <th>V28</th>\n",
       "      <th>Amount</th>\n",
       "      <th>Class</th>\n",
       "      <th>weekday</th>\n",
       "      <th>hour</th>\n",
       "    </tr>\n",
       "  </thead>\n",
       "  <tbody>\n",
       "    <tr>\n",
       "      <th>0</th>\n",
       "      <td>48922.0</td>\n",
       "      <td>-0.858856</td>\n",
       "      <td>1.020229</td>\n",
       "      <td>1.122091</td>\n",
       "      <td>-1.421523</td>\n",
       "      <td>0.036592</td>\n",
       "      <td>-0.784039</td>\n",
       "      <td>0.757142</td>\n",
       "      <td>-0.156908</td>\n",
       "      <td>0.694948</td>\n",
       "      <td>...</td>\n",
       "      <td>-0.040334</td>\n",
       "      <td>0.076910</td>\n",
       "      <td>-0.254924</td>\n",
       "      <td>0.767119</td>\n",
       "      <td>0.104401</td>\n",
       "      <td>-0.023476</td>\n",
       "      <td>0.92</td>\n",
       "      <td>0</td>\n",
       "      <td>0</td>\n",
       "      <td>13.589444</td>\n",
       "    </tr>\n",
       "    <tr>\n",
       "      <th>1</th>\n",
       "      <td>64561.0</td>\n",
       "      <td>-0.919007</td>\n",
       "      <td>0.158239</td>\n",
       "      <td>3.791503</td>\n",
       "      <td>3.401821</td>\n",
       "      <td>-0.960518</td>\n",
       "      <td>1.490213</td>\n",
       "      <td>-0.903934</td>\n",
       "      <td>0.684870</td>\n",
       "      <td>-0.080375</td>\n",
       "      <td>...</td>\n",
       "      <td>-0.198771</td>\n",
       "      <td>0.609797</td>\n",
       "      <td>0.152347</td>\n",
       "      <td>0.502720</td>\n",
       "      <td>0.152262</td>\n",
       "      <td>0.105619</td>\n",
       "      <td>49.55</td>\n",
       "      <td>0</td>\n",
       "      <td>0</td>\n",
       "      <td>17.933611</td>\n",
       "    </tr>\n",
       "    <tr>\n",
       "      <th>2</th>\n",
       "      <td>24182.0</td>\n",
       "      <td>-1.442688</td>\n",
       "      <td>0.976508</td>\n",
       "      <td>1.510575</td>\n",
       "      <td>-1.373680</td>\n",
       "      <td>0.192113</td>\n",
       "      <td>-0.590070</td>\n",
       "      <td>0.597776</td>\n",
       "      <td>-0.183225</td>\n",
       "      <td>1.754713</td>\n",
       "      <td>...</td>\n",
       "      <td>-0.123732</td>\n",
       "      <td>-0.028948</td>\n",
       "      <td>-0.206265</td>\n",
       "      <td>0.670641</td>\n",
       "      <td>0.374686</td>\n",
       "      <td>0.220191</td>\n",
       "      <td>34.27</td>\n",
       "      <td>0</td>\n",
       "      <td>0</td>\n",
       "      <td>6.717222</td>\n",
       "    </tr>\n",
       "    <tr>\n",
       "      <th>3</th>\n",
       "      <td>41034.0</td>\n",
       "      <td>1.298881</td>\n",
       "      <td>-0.649012</td>\n",
       "      <td>0.846275</td>\n",
       "      <td>-0.769185</td>\n",
       "      <td>-1.200153</td>\n",
       "      <td>-0.246700</td>\n",
       "      <td>-0.977766</td>\n",
       "      <td>0.178763</td>\n",
       "      <td>-0.791475</td>\n",
       "      <td>...</td>\n",
       "      <td>0.132533</td>\n",
       "      <td>0.209947</td>\n",
       "      <td>0.100944</td>\n",
       "      <td>-0.364609</td>\n",
       "      <td>0.031872</td>\n",
       "      <td>0.011858</td>\n",
       "      <td>5.69</td>\n",
       "      <td>0</td>\n",
       "      <td>0</td>\n",
       "      <td>11.398333</td>\n",
       "    </tr>\n",
       "    <tr>\n",
       "      <th>4</th>\n",
       "      <td>135719.0</td>\n",
       "      <td>-1.387120</td>\n",
       "      <td>-0.661080</td>\n",
       "      <td>-0.565709</td>\n",
       "      <td>0.210836</td>\n",
       "      <td>2.576020</td>\n",
       "      <td>3.874271</td>\n",
       "      <td>-0.869891</td>\n",
       "      <td>1.592247</td>\n",
       "      <td>-0.383677</td>\n",
       "      <td>...</td>\n",
       "      <td>0.169536</td>\n",
       "      <td>0.697986</td>\n",
       "      <td>-0.494475</td>\n",
       "      <td>-0.456639</td>\n",
       "      <td>0.145379</td>\n",
       "      <td>-0.017612</td>\n",
       "      <td>114.00</td>\n",
       "      <td>0</td>\n",
       "      <td>1</td>\n",
       "      <td>13.699722</td>\n",
       "    </tr>\n",
       "  </tbody>\n",
       "</table>\n",
       "<p>5 rows × 33 columns</p>\n",
       "</div>"
      ],
      "text/plain": [
       "       Time        V1        V2        V3        V4        V5        V6  \\\n",
       "0   48922.0 -0.858856  1.020229  1.122091 -1.421523  0.036592 -0.784039   \n",
       "1   64561.0 -0.919007  0.158239  3.791503  3.401821 -0.960518  1.490213   \n",
       "2   24182.0 -1.442688  0.976508  1.510575 -1.373680  0.192113 -0.590070   \n",
       "3   41034.0  1.298881 -0.649012  0.846275 -0.769185 -1.200153 -0.246700   \n",
       "4  135719.0 -1.387120 -0.661080 -0.565709  0.210836  2.576020  3.874271   \n",
       "\n",
       "         V7        V8        V9  ...       V23       V24       V25       V26  \\\n",
       "0  0.757142 -0.156908  0.694948  ... -0.040334  0.076910 -0.254924  0.767119   \n",
       "1 -0.903934  0.684870 -0.080375  ... -0.198771  0.609797  0.152347  0.502720   \n",
       "2  0.597776 -0.183225  1.754713  ... -0.123732 -0.028948 -0.206265  0.670641   \n",
       "3 -0.977766  0.178763 -0.791475  ...  0.132533  0.209947  0.100944 -0.364609   \n",
       "4 -0.869891  1.592247 -0.383677  ...  0.169536  0.697986 -0.494475 -0.456639   \n",
       "\n",
       "        V27       V28  Amount  Class  weekday       hour  \n",
       "0  0.104401 -0.023476    0.92      0        0  13.589444  \n",
       "1  0.152262  0.105619   49.55      0        0  17.933611  \n",
       "2  0.374686  0.220191   34.27      0        0   6.717222  \n",
       "3  0.031872  0.011858    5.69      0        0  11.398333  \n",
       "4  0.145379 -0.017612  114.00      0        1  13.699722  \n",
       "\n",
       "[5 rows x 33 columns]"
      ]
     },
     "execution_count": 62,
     "metadata": {},
     "output_type": "execute_result"
    }
   ],
   "source": [
    "from sklearn.utils import shuffle\n",
    "trans = shuffle(trans)\n",
    "trans.reset_index(drop=True, inplace=True)\n",
    "trans[:5]"
   ]
  },
  {
   "cell_type": "code",
   "execution_count": 63,
   "metadata": {},
   "outputs": [
    {
     "data": {
      "text/html": [
       "<div>\n",
       "<style scoped>\n",
       "    .dataframe tbody tr th:only-of-type {\n",
       "        vertical-align: middle;\n",
       "    }\n",
       "\n",
       "    .dataframe tbody tr th {\n",
       "        vertical-align: top;\n",
       "    }\n",
       "\n",
       "    .dataframe thead th {\n",
       "        text-align: right;\n",
       "    }\n",
       "</style>\n",
       "<table border=\"1\" class=\"dataframe\">\n",
       "  <thead>\n",
       "    <tr style=\"text-align: right;\">\n",
       "      <th></th>\n",
       "      <th>V1</th>\n",
       "      <th>V2</th>\n",
       "      <th>V3</th>\n",
       "      <th>V4</th>\n",
       "      <th>V5</th>\n",
       "      <th>V6</th>\n",
       "      <th>V7</th>\n",
       "      <th>V8</th>\n",
       "      <th>V9</th>\n",
       "      <th>V10</th>\n",
       "      <th>...</th>\n",
       "      <th>V21</th>\n",
       "      <th>V22</th>\n",
       "      <th>V23</th>\n",
       "      <th>V24</th>\n",
       "      <th>V25</th>\n",
       "      <th>V26</th>\n",
       "      <th>V27</th>\n",
       "      <th>V28</th>\n",
       "      <th>Amount</th>\n",
       "      <th>hour</th>\n",
       "    </tr>\n",
       "  </thead>\n",
       "  <tbody>\n",
       "    <tr>\n",
       "      <th>0</th>\n",
       "      <td>-0.858856</td>\n",
       "      <td>1.020229</td>\n",
       "      <td>1.122091</td>\n",
       "      <td>-1.421523</td>\n",
       "      <td>0.036592</td>\n",
       "      <td>-0.784039</td>\n",
       "      <td>0.757142</td>\n",
       "      <td>-0.156908</td>\n",
       "      <td>0.694948</td>\n",
       "      <td>0.285427</td>\n",
       "      <td>...</td>\n",
       "      <td>-0.147876</td>\n",
       "      <td>-0.135971</td>\n",
       "      <td>-0.040334</td>\n",
       "      <td>0.076910</td>\n",
       "      <td>-0.254924</td>\n",
       "      <td>0.767119</td>\n",
       "      <td>0.104401</td>\n",
       "      <td>-0.023476</td>\n",
       "      <td>0.92</td>\n",
       "      <td>13.589444</td>\n",
       "    </tr>\n",
       "    <tr>\n",
       "      <th>1</th>\n",
       "      <td>-0.919007</td>\n",
       "      <td>0.158239</td>\n",
       "      <td>3.791503</td>\n",
       "      <td>3.401821</td>\n",
       "      <td>-0.960518</td>\n",
       "      <td>1.490213</td>\n",
       "      <td>-0.903934</td>\n",
       "      <td>0.684870</td>\n",
       "      <td>-0.080375</td>\n",
       "      <td>0.284422</td>\n",
       "      <td>...</td>\n",
       "      <td>0.248271</td>\n",
       "      <td>1.015124</td>\n",
       "      <td>-0.198771</td>\n",
       "      <td>0.609797</td>\n",
       "      <td>0.152347</td>\n",
       "      <td>0.502720</td>\n",
       "      <td>0.152262</td>\n",
       "      <td>0.105619</td>\n",
       "      <td>49.55</td>\n",
       "      <td>17.933611</td>\n",
       "    </tr>\n",
       "    <tr>\n",
       "      <th>2</th>\n",
       "      <td>-1.442688</td>\n",
       "      <td>0.976508</td>\n",
       "      <td>1.510575</td>\n",
       "      <td>-1.373680</td>\n",
       "      <td>0.192113</td>\n",
       "      <td>-0.590070</td>\n",
       "      <td>0.597776</td>\n",
       "      <td>-0.183225</td>\n",
       "      <td>1.754713</td>\n",
       "      <td>0.217645</td>\n",
       "      <td>...</td>\n",
       "      <td>-0.372133</td>\n",
       "      <td>-0.357496</td>\n",
       "      <td>-0.123732</td>\n",
       "      <td>-0.028948</td>\n",
       "      <td>-0.206265</td>\n",
       "      <td>0.670641</td>\n",
       "      <td>0.374686</td>\n",
       "      <td>0.220191</td>\n",
       "      <td>34.27</td>\n",
       "      <td>6.717222</td>\n",
       "    </tr>\n",
       "    <tr>\n",
       "      <th>3</th>\n",
       "      <td>1.298881</td>\n",
       "      <td>-0.649012</td>\n",
       "      <td>0.846275</td>\n",
       "      <td>-0.769185</td>\n",
       "      <td>-1.200153</td>\n",
       "      <td>-0.246700</td>\n",
       "      <td>-0.977766</td>\n",
       "      <td>0.178763</td>\n",
       "      <td>-0.791475</td>\n",
       "      <td>0.748592</td>\n",
       "      <td>...</td>\n",
       "      <td>0.125469</td>\n",
       "      <td>0.236139</td>\n",
       "      <td>0.132533</td>\n",
       "      <td>0.209947</td>\n",
       "      <td>0.100944</td>\n",
       "      <td>-0.364609</td>\n",
       "      <td>0.031872</td>\n",
       "      <td>0.011858</td>\n",
       "      <td>5.69</td>\n",
       "      <td>11.398333</td>\n",
       "    </tr>\n",
       "    <tr>\n",
       "      <th>4</th>\n",
       "      <td>-1.387120</td>\n",
       "      <td>-0.661080</td>\n",
       "      <td>-0.565709</td>\n",
       "      <td>0.210836</td>\n",
       "      <td>2.576020</td>\n",
       "      <td>3.874271</td>\n",
       "      <td>-0.869891</td>\n",
       "      <td>1.592247</td>\n",
       "      <td>-0.383677</td>\n",
       "      <td>-0.492377</td>\n",
       "      <td>...</td>\n",
       "      <td>0.538036</td>\n",
       "      <td>0.871340</td>\n",
       "      <td>0.169536</td>\n",
       "      <td>0.697986</td>\n",
       "      <td>-0.494475</td>\n",
       "      <td>-0.456639</td>\n",
       "      <td>0.145379</td>\n",
       "      <td>-0.017612</td>\n",
       "      <td>114.00</td>\n",
       "      <td>13.699722</td>\n",
       "    </tr>\n",
       "  </tbody>\n",
       "</table>\n",
       "<p>5 rows × 30 columns</p>\n",
       "</div>"
      ],
      "text/plain": [
       "         V1        V2        V3        V4        V5        V6        V7  \\\n",
       "0 -0.858856  1.020229  1.122091 -1.421523  0.036592 -0.784039  0.757142   \n",
       "1 -0.919007  0.158239  3.791503  3.401821 -0.960518  1.490213 -0.903934   \n",
       "2 -1.442688  0.976508  1.510575 -1.373680  0.192113 -0.590070  0.597776   \n",
       "3  1.298881 -0.649012  0.846275 -0.769185 -1.200153 -0.246700 -0.977766   \n",
       "4 -1.387120 -0.661080 -0.565709  0.210836  2.576020  3.874271 -0.869891   \n",
       "\n",
       "         V8        V9       V10  ...       V21       V22       V23       V24  \\\n",
       "0 -0.156908  0.694948  0.285427  ... -0.147876 -0.135971 -0.040334  0.076910   \n",
       "1  0.684870 -0.080375  0.284422  ...  0.248271  1.015124 -0.198771  0.609797   \n",
       "2 -0.183225  1.754713  0.217645  ... -0.372133 -0.357496 -0.123732 -0.028948   \n",
       "3  0.178763 -0.791475  0.748592  ...  0.125469  0.236139  0.132533  0.209947   \n",
       "4  1.592247 -0.383677 -0.492377  ...  0.538036  0.871340  0.169536  0.697986   \n",
       "\n",
       "        V25       V26       V27       V28  Amount       hour  \n",
       "0 -0.254924  0.767119  0.104401 -0.023476    0.92  13.589444  \n",
       "1  0.152347  0.502720  0.152262  0.105619   49.55  17.933611  \n",
       "2 -0.206265  0.670641  0.374686  0.220191   34.27   6.717222  \n",
       "3  0.100944 -0.364609  0.031872  0.011858    5.69  11.398333  \n",
       "4 -0.494475 -0.456639  0.145379 -0.017612  114.00  13.699722  \n",
       "\n",
       "[5 rows x 30 columns]"
      ]
     },
     "execution_count": 63,
     "metadata": {},
     "output_type": "execute_result"
    }
   ],
   "source": [
    "# We now use the relevant features (but no Class!) to feed the autoencoder\n",
    "# (We drop weekday because there are only 2 days on fata in the dataset)\n",
    "AEfeed = trans.drop(['Time','Class','weekday'],axis=1)\n",
    "AEfeed[:5]"
   ]
  },
  {
   "attachments": {},
   "cell_type": "markdown",
   "metadata": {},
   "source": [
    "### Prepare the Data and Build an Autoencoder"
   ]
  },
  {
   "cell_type": "code",
   "execution_count": 64,
   "metadata": {},
   "outputs": [
    {
     "data": {
      "text/plain": [
       "213605"
      ]
     },
     "execution_count": 64,
     "metadata": {},
     "output_type": "execute_result"
    }
   ],
   "source": [
    "f=len(AEfeed)\n",
    "f0 = int(0.75*f)\n",
    "f0"
   ]
  },
  {
   "cell_type": "code",
   "execution_count": 65,
   "metadata": {},
   "outputs": [
    {
     "data": {
      "text/plain": [
       "(284807, 30)"
      ]
     },
     "execution_count": 65,
     "metadata": {},
     "output_type": "execute_result"
    }
   ],
   "source": [
    "AEfeed.shape"
   ]
  },
  {
   "cell_type": "code",
   "execution_count": 66,
   "metadata": {},
   "outputs": [
    {
     "name": "stdout",
     "output_type": "stream",
     "text": [
      "30\n"
     ]
    }
   ],
   "source": [
    "from sklearn.preprocessing import StandardScaler, MinMaxScaler\n",
    "scaler = MinMaxScaler()\n",
    "scaled_seqs = scaler.fit_transform(AEfeed)\n",
    "# Divide in train and test:\n",
    "# Important: we do not use the fake events to train and test!\n",
    "X_train = scaled_seqs[:f0]  \n",
    "X_test = scaled_seqs[f0:]\n",
    "print(X_train.shape[1])"
   ]
  },
  {
   "cell_type": "code",
   "execution_count": 67,
   "metadata": {},
   "outputs": [],
   "source": [
    "from keras.models import Model, load_model\n",
    "from keras.layers import Input, Dense, Dropout, LSTM\n",
    "from keras.callbacks import ModelCheckpoint, TensorBoard\n",
    "from keras import regularizers\n",
    "\n",
    "# Parameters for the auto-encoder\n",
    "input_dim = X_train.shape[1] # number of features (8 in this case)\n",
    "\n",
    "# Typical training features\n",
    "nb_epoch = 30\n",
    "batch_size = 128\n",
    "learning_rate = 0.1\n",
    "\n",
    "# We create the auto-encoder layer by layer:\n",
    "\n",
    "# Create first layer that receives each scaled_seq\n",
    "input_layer = Input(shape=(input_dim, ))\n",
    "\n",
    "# Pass it to a first layer and encode\n",
    "encoder = Dense(24, activation=\"tanh\", activity_regularizer=regularizers.l1(10e-5))(input_layer)\n",
    "encoder = Dense(22, activation=\"relu\")(encoder)\n",
    "encoder = Dense(18, activation=\"relu\")(encoder)\n",
    "encoder = Dense(14, activation='relu')(encoder)\n",
    "# start decoder\n",
    "decoder = Dense(18, activation='relu')(encoder)\n",
    "decoder = Dense(22, activation='relu')(decoder)\n",
    "decoder = Dense(24, activation='relu')(decoder)\n",
    "decoder = Dense(input_dim, activation='tanh')(decoder)\n",
    "\n",
    "# Physically create the auto-encoder model\n",
    "autoencoder = Model(inputs=input_layer, outputs=decoder)\n",
    "\n"
   ]
  },
  {
   "cell_type": "code",
   "execution_count": 68,
   "metadata": {},
   "outputs": [
    {
     "name": "stdout",
     "output_type": "stream",
     "text": [
      "_________________________________________________________________\n",
      "Layer (type)                 Output Shape              Param #   \n",
      "=================================================================\n",
      "input_3 (InputLayer)         (None, 30)                0         \n",
      "_________________________________________________________________\n",
      "dense_17 (Dense)             (None, 24)                744       \n",
      "_________________________________________________________________\n",
      "dense_18 (Dense)             (None, 22)                550       \n",
      "_________________________________________________________________\n",
      "dense_19 (Dense)             (None, 18)                414       \n",
      "_________________________________________________________________\n",
      "dense_20 (Dense)             (None, 14)                266       \n",
      "_________________________________________________________________\n",
      "dense_21 (Dense)             (None, 18)                270       \n",
      "_________________________________________________________________\n",
      "dense_22 (Dense)             (None, 22)                418       \n",
      "_________________________________________________________________\n",
      "dense_23 (Dense)             (None, 24)                552       \n",
      "_________________________________________________________________\n",
      "dense_24 (Dense)             (None, 30)                750       \n",
      "=================================================================\n",
      "Total params: 3,964\n",
      "Trainable params: 3,964\n",
      "Non-trainable params: 0\n",
      "_________________________________________________________________\n"
     ]
    }
   ],
   "source": [
    "autoencoder.summary()"
   ]
  },
  {
   "attachments": {},
   "cell_type": "markdown",
   "metadata": {},
   "source": [
    "### Fit the Model"
   ]
  },
  {
   "cell_type": "code",
   "execution_count": 69,
   "metadata": {},
   "outputs": [
    {
     "name": "stdout",
     "output_type": "stream",
     "text": [
      "Train on 213605 samples, validate on 71202 samples\n",
      "Epoch 1/30\n",
      "213605/213605 [==============================] - 4s 17us/step - loss: 0.0171 - acc: 0.9076 - val_loss: 0.0052 - val_acc: 0.9493\n",
      "Epoch 2/30\n",
      "213605/213605 [==============================] - 5s 24us/step - loss: 0.0044 - acc: 0.9515 - val_loss: 0.0038 - val_acc: 0.9493\n",
      "Epoch 3/30\n",
      "213605/213605 [==============================] - 4s 18us/step - loss: 0.0035 - acc: 0.9517 - val_loss: 0.0031 - val_acc: 0.9494\n",
      "Epoch 4/30\n",
      "213605/213605 [==============================] - 4s 17us/step - loss: 0.0030 - acc: 0.9513 - val_loss: 0.0042 - val_acc: 0.9493\n",
      "Epoch 5/30\n",
      "213605/213605 [==============================] - 3s 16us/step - loss: 0.0027 - acc: 0.9516 - val_loss: 0.0026 - val_acc: 0.9522\n",
      "Epoch 6/30\n",
      "213605/213605 [==============================] - 5s 22us/step - loss: 0.0024 - acc: 0.9518 - val_loss: 0.0024 - val_acc: 0.9497\n",
      "Epoch 7/30\n",
      "213605/213605 [==============================] - 3s 16us/step - loss: 0.0023 - acc: 0.9519 - val_loss: 0.0022 - val_acc: 0.9538\n",
      "Epoch 8/30\n",
      "213605/213605 [==============================] - 4s 17us/step - loss: 0.0022 - acc: 0.9515 - val_loss: 0.0020 - val_acc: 0.9508\n",
      "Epoch 9/30\n",
      "213605/213605 [==============================] - 4s 17us/step - loss: 0.0021 - acc: 0.9516 - val_loss: 0.0019 - val_acc: 0.9509\n",
      "Epoch 10/30\n",
      "213605/213605 [==============================] - 4s 20us/step - loss: 0.0019 - acc: 0.9535 - val_loss: 0.0018 - val_acc: 0.9506\n",
      "Epoch 11/30\n",
      "213605/213605 [==============================] - 3s 16us/step - loss: 0.0018 - acc: 0.9545 - val_loss: 0.0017 - val_acc: 0.9512\n",
      "Epoch 12/30\n",
      "213605/213605 [==============================] - 6s 26us/step - loss: 0.0017 - acc: 0.9547 - val_loss: 0.0016 - val_acc: 0.9508\n",
      "Epoch 13/30\n",
      "213605/213605 [==============================] - 5s 22us/step - loss: 0.0017 - acc: 0.9550 - val_loss: 0.0019 - val_acc: 0.9257\n",
      "Epoch 14/30\n",
      "213605/213605 [==============================] - 4s 17us/step - loss: 0.0016 - acc: 0.9547 - val_loss: 0.0014 - val_acc: 0.9587\n",
      "Epoch 15/30\n",
      "213605/213605 [==============================] - 3s 15us/step - loss: 0.0015 - acc: 0.9555 - val_loss: 0.0015 - val_acc: 0.9515\n",
      "Epoch 16/30\n",
      "213605/213605 [==============================] - 4s 17us/step - loss: 0.0015 - acc: 0.9569 - val_loss: 0.0014 - val_acc: 0.9518\n",
      "Epoch 17/30\n",
      "213605/213605 [==============================] - 4s 17us/step - loss: 0.0015 - acc: 0.9568 - val_loss: 0.0014 - val_acc: 0.9513\n",
      "Epoch 18/30\n",
      "213605/213605 [==============================] - 3s 16us/step - loss: 0.0014 - acc: 0.9579 - val_loss: 0.0014 - val_acc: 0.9691\n",
      "Epoch 19/30\n",
      "213605/213605 [==============================] - 4s 17us/step - loss: 0.0014 - acc: 0.9583 - val_loss: 0.0013 - val_acc: 0.9560\n",
      "Epoch 20/30\n",
      "213605/213605 [==============================] - 3s 16us/step - loss: 0.0014 - acc: 0.9603 - val_loss: 0.0013 - val_acc: 0.9666\n",
      "Epoch 21/30\n",
      "213605/213605 [==============================] - 4s 17us/step - loss: 0.0013 - acc: 0.9594 - val_loss: 0.0013 - val_acc: 0.9520\n",
      "Epoch 22/30\n",
      "213605/213605 [==============================] - 4s 17us/step - loss: 0.0013 - acc: 0.9594 - val_loss: 0.0016 - val_acc: 0.9503\n",
      "Epoch 23/30\n",
      "213605/213605 [==============================] - 4s 18us/step - loss: 0.0013 - acc: 0.9596 - val_loss: 0.0013 - val_acc: 0.9610\n",
      "Epoch 24/30\n",
      "213605/213605 [==============================] - 4s 16us/step - loss: 0.0013 - acc: 0.9592 - val_loss: 0.0012 - val_acc: 0.9623\n",
      "Epoch 25/30\n",
      "213605/213605 [==============================] - 4s 17us/step - loss: 0.0013 - acc: 0.9590 - val_loss: 0.0013 - val_acc: 0.9601\n",
      "Epoch 26/30\n",
      "213605/213605 [==============================] - 5s 22us/step - loss: 0.0012 - acc: 0.9580 - val_loss: 0.0011 - val_acc: 0.9546\n",
      "Epoch 27/30\n",
      "213605/213605 [==============================] - 5s 23us/step - loss: 0.0012 - acc: 0.9586 - val_loss: 0.0011 - val_acc: 0.9524\n",
      "Epoch 28/30\n",
      "213605/213605 [==============================] - 3s 16us/step - loss: 0.0012 - acc: 0.9578 - val_loss: 0.0011 - val_acc: 0.9589\n",
      "Epoch 29/30\n",
      "213605/213605 [==============================] - 4s 17us/step - loss: 0.0012 - acc: 0.9580 - val_loss: 0.0011 - val_acc: 0.9618\n",
      "Epoch 30/30\n",
      "213605/213605 [==============================] - 5s 22us/step - loss: 0.0012 - acc: 0.9585 - val_loss: 0.0011 - val_acc: 0.9541\n"
     ]
    }
   ],
   "source": [
    "autoencoder.compile(optimizer='adam', \n",
    "                    loss='mean_squared_error', \n",
    "                    metrics=['accuracy'])\n",
    "\n",
    "checkpointer = ModelCheckpoint(filepath=\"model_seqs2.h5\",\n",
    "                               verbose=0,\n",
    "                               save_best_only=True)\n",
    "\n",
    "tensorboard = TensorBoard(log_dir='./logs',\n",
    "                          histogram_freq=0,\n",
    "                          write_graph=True,\n",
    "                          write_images=True)\n",
    "\n",
    "history = autoencoder.fit(X_train, X_train,   # <---- THIS IS THE *KEY* LINE THAT DEFINES THAT IS AN AUTOENCODER!\n",
    "                    epochs=nb_epoch,\n",
    "                    batch_size=batch_size,\n",
    "                    shuffle=True,\n",
    "                    validation_data=(X_test, X_test),\n",
    "                    verbose=1,\n",
    "                    callbacks=[checkpointer, tensorboard]).history"
   ]
  },
  {
   "cell_type": "code",
   "execution_count": 39,
   "metadata": {},
   "outputs": [
    {
     "data": {
      "image/png": "[encoded data removed]",
      "text/plain": [
       "<Figure size 432x288 with 1 Axes>"
      ]
     },
     "metadata": {
      "needs_background": "light"
     },
     "output_type": "display_data"
    }
   ],
   "source": [
    "plt.plot(history['loss'])\n",
    "plt.plot(history['val_loss'])\n",
    "plt.title('model loss')\n",
    "plt.ylabel('loss')\n",
    "plt.xlabel('epoch')\n",
    "plt.legend(['train', 'test'], loc='upper right');"
   ]
  },
  {
   "cell_type": "code",
   "execution_count": 40,
   "metadata": {},
   "outputs": [
    {
     "name": "stdout",
     "output_type": "stream",
     "text": [
      "Min Loss:0.0013270214058695162\n"
     ]
    }
   ],
   "source": [
    "#autoencoder = load_model('model_seqs2.h5')\n",
    "print(f'Min Loss:{np.min(history[\"loss\"])}')"
   ]
  },
  {
   "attachments": {},
   "cell_type": "markdown",
   "metadata": {},
   "source": [
    "### Calculate the Error Term"
   ]
  },
  {
   "cell_type": "code",
   "execution_count": 41,
   "metadata": {},
   "outputs": [],
   "source": [
    "#get the MSE error term\n",
    "predictions = autoencoder.predict(scaled_seqs)\n",
    "mse = np.mean(np.power(scaled_seqs - predictions, 2), axis=1)"
   ]
  },
  {
   "cell_type": "code",
   "execution_count": 42,
   "metadata": {},
   "outputs": [
    {
     "name": "stdout",
     "output_type": "stream",
     "text": [
      "MSE threshold = 0.006302868430784555\n"
     ]
    }
   ],
   "source": [
    "mse_threshold = np.quantile(mse, 0.998)\n",
    "print('MSE threshold =', mse_threshold) # => the 9999% quatile - only 0.0001% have error score higher than that"
   ]
  },
  {
   "cell_type": "code",
   "execution_count": 43,
   "metadata": {},
   "outputs": [],
   "source": [
    "scaled_seqs_scored = pd.DataFrame(scaled_seqs)"
   ]
  },
  {
   "cell_type": "code",
   "execution_count": 44,
   "metadata": {},
   "outputs": [],
   "source": [
    "scaled_seqs_scored['MSE'] = mse"
   ]
  },
  {
   "cell_type": "code",
   "execution_count": 45,
   "metadata": {},
   "outputs": [],
   "source": [
    "scaled_seqs_scored['MSE_Outlier'] = 0\n",
    "scaled_seqs_scored.loc[scaled_seqs_scored['MSE'] > mse_threshold, 'MSE_Outlier'] = 1"
   ]
  },
  {
   "cell_type": "code",
   "execution_count": 46,
   "metadata": {},
   "outputs": [
    {
     "data": {
      "text/html": [
       "<div>\n",
       "<style scoped>\n",
       "    .dataframe tbody tr th:only-of-type {\n",
       "        vertical-align: middle;\n",
       "    }\n",
       "\n",
       "    .dataframe tbody tr th {\n",
       "        vertical-align: top;\n",
       "    }\n",
       "\n",
       "    .dataframe thead th {\n",
       "        text-align: right;\n",
       "    }\n",
       "</style>\n",
       "<table border=\"1\" class=\"dataframe\">\n",
       "  <thead>\n",
       "    <tr style=\"text-align: right;\">\n",
       "      <th></th>\n",
       "      <th>0</th>\n",
       "      <th>1</th>\n",
       "      <th>2</th>\n",
       "      <th>3</th>\n",
       "      <th>4</th>\n",
       "      <th>5</th>\n",
       "      <th>6</th>\n",
       "      <th>7</th>\n",
       "      <th>8</th>\n",
       "      <th>9</th>\n",
       "      <th>...</th>\n",
       "      <th>22</th>\n",
       "      <th>23</th>\n",
       "      <th>24</th>\n",
       "      <th>25</th>\n",
       "      <th>26</th>\n",
       "      <th>27</th>\n",
       "      <th>28</th>\n",
       "      <th>29</th>\n",
       "      <th>MSE</th>\n",
       "      <th>MSE_Outlier</th>\n",
       "    </tr>\n",
       "  </thead>\n",
       "  <tbody>\n",
       "    <tr>\n",
       "      <th>0</th>\n",
       "      <td>0.936717</td>\n",
       "      <td>0.779513</td>\n",
       "      <td>0.869659</td>\n",
       "      <td>0.261127</td>\n",
       "      <td>0.758660</td>\n",
       "      <td>0.265814</td>\n",
       "      <td>0.258801</td>\n",
       "      <td>0.797175</td>\n",
       "      <td>0.490155</td>\n",
       "      <td>0.485649</td>\n",
       "      <td>...</td>\n",
       "      <td>0.665949</td>\n",
       "      <td>0.413118</td>\n",
       "      <td>0.534184</td>\n",
       "      <td>0.475653</td>\n",
       "      <td>0.412408</td>\n",
       "      <td>0.313427</td>\n",
       "      <td>0.000146</td>\n",
       "      <td>0.137168</td>\n",
       "      <td>0.000749</td>\n",
       "      <td>0</td>\n",
       "    </tr>\n",
       "    <tr>\n",
       "      <th>1</th>\n",
       "      <td>0.992563</td>\n",
       "      <td>0.763553</td>\n",
       "      <td>0.826000</td>\n",
       "      <td>0.256692</td>\n",
       "      <td>0.764653</td>\n",
       "      <td>0.264559</td>\n",
       "      <td>0.261885</td>\n",
       "      <td>0.786624</td>\n",
       "      <td>0.499739</td>\n",
       "      <td>0.508838</td>\n",
       "      <td>...</td>\n",
       "      <td>0.668921</td>\n",
       "      <td>0.236875</td>\n",
       "      <td>0.560062</td>\n",
       "      <td>0.330929</td>\n",
       "      <td>0.417087</td>\n",
       "      <td>0.312083</td>\n",
       "      <td>0.000195</td>\n",
       "      <td>0.814429</td>\n",
       "      <td>0.000315</td>\n",
       "      <td>0</td>\n",
       "    </tr>\n",
       "    <tr>\n",
       "      <th>2</th>\n",
       "      <td>0.940874</td>\n",
       "      <td>0.779368</td>\n",
       "      <td>0.858890</td>\n",
       "      <td>0.278303</td>\n",
       "      <td>0.767128</td>\n",
       "      <td>0.274450</td>\n",
       "      <td>0.265435</td>\n",
       "      <td>0.795058</td>\n",
       "      <td>0.447931</td>\n",
       "      <td>0.499640</td>\n",
       "      <td>...</td>\n",
       "      <td>0.661526</td>\n",
       "      <td>0.221092</td>\n",
       "      <td>0.602459</td>\n",
       "      <td>0.375845</td>\n",
       "      <td>0.420523</td>\n",
       "      <td>0.314240</td>\n",
       "      <td>0.000766</td>\n",
       "      <td>0.417348</td>\n",
       "      <td>0.000176</td>\n",
       "      <td>0</td>\n",
       "    </tr>\n",
       "    <tr>\n",
       "      <th>3</th>\n",
       "      <td>0.982315</td>\n",
       "      <td>0.742743</td>\n",
       "      <td>0.822806</td>\n",
       "      <td>0.229341</td>\n",
       "      <td>0.753842</td>\n",
       "      <td>0.256332</td>\n",
       "      <td>0.261337</td>\n",
       "      <td>0.783712</td>\n",
       "      <td>0.472990</td>\n",
       "      <td>0.521722</td>\n",
       "      <td>...</td>\n",
       "      <td>0.662291</td>\n",
       "      <td>0.370314</td>\n",
       "      <td>0.557062</td>\n",
       "      <td>0.409723</td>\n",
       "      <td>0.415283</td>\n",
       "      <td>0.313516</td>\n",
       "      <td>0.015686</td>\n",
       "      <td>0.692366</td>\n",
       "      <td>0.000658</td>\n",
       "      <td>0</td>\n",
       "    </tr>\n",
       "    <tr>\n",
       "      <th>4</th>\n",
       "      <td>0.994061</td>\n",
       "      <td>0.764443</td>\n",
       "      <td>0.804655</td>\n",
       "      <td>0.251317</td>\n",
       "      <td>0.769074</td>\n",
       "      <td>0.260535</td>\n",
       "      <td>0.265432</td>\n",
       "      <td>0.784572</td>\n",
       "      <td>0.479010</td>\n",
       "      <td>0.515610</td>\n",
       "      <td>...</td>\n",
       "      <td>0.663263</td>\n",
       "      <td>0.405991</td>\n",
       "      <td>0.599046</td>\n",
       "      <td>0.588665</td>\n",
       "      <td>0.414450</td>\n",
       "      <td>0.311259</td>\n",
       "      <td>0.000088</td>\n",
       "      <td>0.652411</td>\n",
       "      <td>0.000273</td>\n",
       "      <td>0</td>\n",
       "    </tr>\n",
       "  </tbody>\n",
       "</table>\n",
       "<p>5 rows × 32 columns</p>\n",
       "</div>"
      ],
      "text/plain": [
       "          0         1         2         3         4         5         6  \\\n",
       "0  0.936717  0.779513  0.869659  0.261127  0.758660  0.265814  0.258801   \n",
       "1  0.992563  0.763553  0.826000  0.256692  0.764653  0.264559  0.261885   \n",
       "2  0.940874  0.779368  0.858890  0.278303  0.767128  0.274450  0.265435   \n",
       "3  0.982315  0.742743  0.822806  0.229341  0.753842  0.256332  0.261337   \n",
       "4  0.994061  0.764443  0.804655  0.251317  0.769074  0.260535  0.265432   \n",
       "\n",
       "          7         8         9  ...        22        23        24        25  \\\n",
       "0  0.797175  0.490155  0.485649  ...  0.665949  0.413118  0.534184  0.475653   \n",
       "1  0.786624  0.499739  0.508838  ...  0.668921  0.236875  0.560062  0.330929   \n",
       "2  0.795058  0.447931  0.499640  ...  0.661526  0.221092  0.602459  0.375845   \n",
       "3  0.783712  0.472990  0.521722  ...  0.662291  0.370314  0.557062  0.409723   \n",
       "4  0.784572  0.479010  0.515610  ...  0.663263  0.405991  0.599046  0.588665   \n",
       "\n",
       "         26        27        28        29       MSE  MSE_Outlier  \n",
       "0  0.412408  0.313427  0.000146  0.137168  0.000749            0  \n",
       "1  0.417087  0.312083  0.000195  0.814429  0.000315            0  \n",
       "2  0.420523  0.314240  0.000766  0.417348  0.000176            0  \n",
       "3  0.415283  0.313516  0.015686  0.692366  0.000658            0  \n",
       "4  0.414450  0.311259  0.000088  0.652411  0.000273            0  \n",
       "\n",
       "[5 rows x 32 columns]"
      ]
     },
     "execution_count": 46,
     "metadata": {},
     "output_type": "execute_result"
    }
   ],
   "source": [
    "scaled_seqs_scored[:5]"
   ]
  },
  {
   "cell_type": "code",
   "execution_count": 47,
   "metadata": {},
   "outputs": [],
   "source": [
    "trans['MSE'] = mse"
   ]
  },
  {
   "cell_type": "code",
   "execution_count": 48,
   "metadata": {},
   "outputs": [],
   "source": [
    "import math\n",
    "fraud = list(map(math.log10,trans.loc[trans['Class'] == 1]['MSE'].to_list()))\n",
    "legal = list(map(math.log10,trans.loc[trans['Class'] == 0]['MSE'].to_list()))"
   ]
  },
  {
   "cell_type": "code",
   "execution_count": 49,
   "metadata": {},
   "outputs": [
    {
     "name": "stdout",
     "output_type": "stream",
     "text": [
      "-3.7428433848629017 -1.6432778840578863 -4.200806157257277 -0.6567409221877872\n"
     ]
    }
   ],
   "source": [
    "print(min(fraud),max(fraud),min(legal),max(legal))"
   ]
  },
  {
   "cell_type": "code",
   "execution_count": 50,
   "metadata": {},
   "outputs": [
    {
     "data": {
      "image/png": "[encoded data removed]",
      "text/plain": [
       "<Figure size 840x560 with 1 Axes>"
      ]
     },
     "metadata": {
      "needs_background": "light"
     },
     "output_type": "display_data"
    }
   ],
   "source": [
    "plt.figure(dpi=140)\n",
    "plt.hist(legal,density=True,bins=15,range=(-4,-1),histtype='step',label='Legal', color='blue')\n",
    "plt.hist(fraud,density=True,bins=15,range=(-4,-1),histtype='step',label='Fraud', color='red')\n",
    "plt.xlabel('Log10(Mean Squared Error)')\n",
    "plt.ylabel('Distribution')\n",
    "plt.arrow(-3,1.75,1.5,0,head_width=0.08, head_length=0.08, color='red')\n",
    "plt.arrow(-3,1.85,-1,0,head_width=0.08, head_length=0.08, color='blue')\n",
    "plt.text(.5,.82,'Worst Auto-Encoder reproduction\\n(More anomalous events)',ha='left',va='top', fontsize=9, color='red',transform = plt.gca().transAxes)\n",
    "plt.text(.01,.84,'Better Auto-Encoder reproduction\\n(More normal events)',ha='left',va='top', fontsize=9, color='blue',transform = plt.gca().transAxes)\n",
    "plt.ylim(0,2)\n",
    "plt.legend(loc=5)\n",
    "plt.show()"
   ]
  },
  {
   "attachments": {},
   "cell_type": "markdown",
   "metadata": {},
   "source": [
    "## We can explore how good we can isolate fraud cases "
   ]
  },
  {
   "cell_type": "code",
   "execution_count": 197,
   "metadata": {},
   "outputs": [
    {
     "name": "stdout",
     "output_type": "stream",
     "text": [
      "With threshold = -2.5\n",
      "We pass from 1 fraud every  577.9  transaction to one fraud every  15.0  transactions\n"
     ]
    }
   ],
   "source": [
    "# Original fraud rate inverse\n",
    "original = len(legal)/len(fraud)\n",
    "threshold = -2.5\n",
    "new = len(list(filter(lambda t: t>threshold, legal))) / len(list(filter(lambda t: t>threshold, fraud))) \n",
    "print('With threshold = '+str(threshold)+'\\nWe pass from 1 fraud every ',round(original,1),' transaction to one fraud every ',round(new,1),' transactions')"
   ]
  },
  {
   "cell_type": "code",
   "execution_count": null,
   "metadata": {},
   "outputs": [],
   "source": []
  }
 ],
 "metadata": {
  "kernelspec": {
   "display_name": "Python 3 (ipykernel)",
   "language": "python",
   "name": "python3"
  },
  "language_info": {
   "codemirror_mode": {
    "name": "ipython",
    "version": 3
   },
   "file_extension": ".py",
   "mimetype": "text/x-python",
   "name": "python",
   "nbconvert_exporter": "python",
   "pygments_lexer": "ipython3",
   "version": "3.8.10"
  }
 },
 "nbformat": 4,
 "nbformat_minor": 4
}
