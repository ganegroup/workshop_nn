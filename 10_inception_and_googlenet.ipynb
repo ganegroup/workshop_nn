{
 "cells": [
  {
   "attachments": {},
   "cell_type": "markdown",
   "metadata": {},
   "source": [
    "Inception fue creado en 2014 por un grupo de investigadores de Google. La principal ventaja de esta arquitectura es construir una red neuronal muy profunda, sin requerir tantos parámetros. GoogleNet, un tipo particular de la familia de redes inception tiene 22 capas (comparadas con las 19 de VGG), pero tiene ~12 veces menos parámetros (13 millones contra 138 millones) y obtuvo mejores resultados en ImageNet. Para lograr esto, los investigadores desarrollaron un nuevo tipo de módulo denominado inception."
   ]
  },
  {
   "attachments": {},
   "cell_type": "markdown",
   "metadata": {},
   "source": [
    "## El módulo inception\n",
    "\n",
    "En las arquitecturas anteriores el tamaño de los filtros, y la posición de las capas de pooling son decisiones que se toman por ensayo y error. En cambio, la propuesta del modulo inception es aplicar convoluciones con filtros de diferentes tamaños y agruparlos en un solo output. La red puede tener varios de estos módulos intercalados con capas de pooling\n",
    "\n",
    "El módulo inception tiene la siguiente estructura:\n",
    "\n",
    "![El módulo Inception utilizado por GoogleNet](images/inception_module.png)\n",
    "\n",
    "Las convoluciones con fitros de distinto tamaño (1 x 1, 3 x 3 y 5 x 5) ocurren sobre casi el mismo input. La diferencia es que para los filtros más grandes se agrega primero una convolución con filtros de 1 x 1 diseñadas para reducir la dimensionalidad en profundidad del input, manteniendo el tamaño espacial. El objetivo de esto es reducir el costo computacional del módulo.\n",
    "\n",
    "![Reducción de dimensionalidad generado por las capas 1 x 1](images/bottleneck_layer.png)"
   ]
  },
  {
   "cell_type": "markdown",
   "metadata": {},
   "source": []
  }
 ],
 "metadata": {
  "language_info": {
   "name": "python"
  },
  "orig_nbformat": 4
 },
 "nbformat": 4,
 "nbformat_minor": 2
}
